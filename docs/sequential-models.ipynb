{
 "cells": [
  {
   "cell_type": "markdown",
   "metadata": {},
   "source": [
    "# Sequential regression models\n",
    "\n",
    "Sequential regression models are a a special case of ordinal models, where the different categories can only be reached one after another, i.e., sequentially. Sequential response mechanisms frequently occur in biological and medical settings, i.e., titer data or MIC data, but haven't received much attention. \n",
    "\n",
    "In this case study, we analyse two ordinal data sets for which an underlying sequential response mechanism can be assumed and compare it to the more common proportional odds model.\n",
    "\n",
    "The relevant code can be found [here](https://github.com/dirmeier/pystansequential). It relies on [PyStan](https://pystan.readthedocs.io/en/latest/) for inference."
   ]
  },
  {
   "cell_type": "markdown",
   "metadata": {},
   "source": [
    "## Proportional odds model\n",
    "\n",
    "The conventional proportional odds - or cumulative - model introduced by [McCullagh (1980)](https://doi.org/10.1111/j.2517-6161.1980.tb01109.x) is probably the most frequently encountered ordinal regression model. It assumes a response variable $Y$ with $K$ ordered categories $k = 1, \\dots, K$ and ordinal probabilities $\\pi_1, \\dots, \\pi_K$. The model is motivated by a latent continuous random process $\\tilde{Y}$\n",
    "\n",
    "$$\\begin{align}\n",
    "\\tilde{Y} & = -\\mathbf{x}^T \\boldsymbol \\beta + \\epsilon \\\\\n",
    "\\epsilon & \\sim f\n",
    "\\end{align}\n",
    "$$\n",
    "\n",
    "for some density $f$. The latent variable is related to the observed category with a threshold mechanism\n",
    "\n",
    "$$\\begin{align}\n",
    "Y = k \\Leftrightarrow \\theta_{k - 1} < \\tilde{Y} \\le \\theta_{k}, \\; k = 1, \\dots, K\n",
    "\\end{align}\n",
    "$$\n",
    "\n",
    "for a set of latent ordered continuous cutpoints $\\theta_0, \\dots, \\theta_K$ with $\\theta_0 = -\\infty$ and $\\theta_K = \\infty$."
   ]
  },
  {
   "cell_type": "markdown",
   "metadata": {},
   "source": [
    "From this definiation one obtains\n",
    "\n",
    "$$\\begin{align}\n",
    "P(Y \\le  k) & = P(\\tilde{Y} \\le \\theta_k) \\\\\n",
    "& = P(-\\mathbf{x}^T \\boldsymbol \\beta +\\epsilon \\le \\theta_k) \\\\\n",
    "& = P(\\epsilon \\le \\theta_k + \\mathbf{x}^T \\boldsymbol \\beta) \\\\\n",
    "&= F(\\theta_k + \\mathbf{x}^T \\boldsymbol \\beta),\n",
    "\\end{align}$$\n",
    "\n",
    "which gives rise to the name \"cumulative\". Computing the ordinal probabilities form this gives\n",
    "\n",
    "$$\\begin{align}\n",
    "\\pi_k & = F(\\theta_k + \\mathbf{x}^T \\boldsymbol \\beta) - F(\\theta_{k - 1} + \\mathbf{x}^T \\boldsymbol \\beta)\n",
    "\\end{align}$$\n",
    "\n",
    "The choice of $F$ determines which model we obtain. The cumulative *logit* model (i.e. choosing a logit link function) is obtained if we choose the logistic distribution function\n",
    "\n",
    "$$\\begin{align}\n",
    "P(Y \\le k) = \\frac{1}{1 + \\exp(-\\theta_k - \\mathbf{x}^T \\boldsymbol \\beta)}\n",
    "\\end{align}$$ \n",
    "\n",
    "or equivalently a *logit* link which gives us the  *cumulative* log odds\n",
    "\n",
    "$$\\begin{align}\n",
    "\\log \\frac{P(Y \\le k)}{1 - P(Y \\le k)} = \\theta_k + \\mathbf{x}^T \\boldsymbol \\beta\n",
    "\\end{align}$$ \n",
    "\n",
    "From which the name *proportional odds model* stems. Specifically, if we look at the ratio of the odds of the event $Y \\le k$ for two populations characterized by covariable values $\\mathbf{x}$ and $\\mathbf{\\tilde{x}}$\n",
    "\n",
    "$$\\begin{align}\n",
    "\\frac{P(Y \\le k \\mid \\mathbf{x})\\ / \\ P(Y > k  \\mid \\mathbf{x}) }{P(Y \\le k \\mid \\mathbf{\\tilde{x}})\\ / \\ P(Y > k \n",
    "\\mid \\mathbf{\\tilde{x}}) } & = \\frac{ \\exp\\left( \\theta_k + \\mathbf{x}^T \\boldsymbol \\beta \\right)}{\\exp\\left(\\theta_k + \\mathbf{\\tilde{x}}^T \\boldsymbol \\beta \\right)} \\\\\n",
    "& = \\exp\\left( \\left(\\mathbf{\\tilde{x}} - \\mathbf{x}\\right)^T \\boldsymbol \\beta  \\right)\n",
    "\\end{align}$$ \n",
    "\n",
    "This derivation is crucial for the interpretation of coefficients and makes it especially simple, because it says that the cumulative odds are the same irrespective of the category. Hence we can disregard the categories when we interpret coefficients.\n"
   ]
  },
  {
   "cell_type": "markdown",
   "metadata": {},
   "source": [
    "## Stopping ratio model\n",
    "\n"
   ]
  },
  {
   "cell_type": "code",
   "execution_count": null,
   "metadata": {},
   "outputs": [],
   "source": []
  },
  {
   "cell_type": "code",
   "execution_count": 1,
   "metadata": {},
   "outputs": [],
   "source": [
    "import numpy as np\n",
    "import pandas as pd\n",
    "import arviz as az\n",
    "from tabulate import tabulate\n",
    "    \n",
    "%matplotlib inline\n",
    "import matplotlib.pyplot as plt\n",
    "import seaborn as sns\n",
    "\n",
    "import pystan\n",
    "from pystansequential import data, fit"
   ]
  },
  {
   "cell_type": "code",
   "execution_count": 2,
   "metadata": {},
   "outputs": [],
   "source": [
    "sns.set_style(\"ticks\")\n",
    "plt.rcParams[\"figure.figsize\"] = (9, 4)\n",
    "\n",
    "large_width = 600\n",
    "np.set_printoptions(linewidth=large_width)"
   ]
  },
  {
   "cell_type": "markdown",
   "metadata": {},
   "source": [
    "## Tonsil data"
   ]
  },
  {
   "cell_type": "code",
   "execution_count": 3,
   "metadata": {},
   "outputs": [],
   "source": [
    "tonsils = data(\"tonsil\")"
   ]
  },
  {
   "cell_type": "code",
   "execution_count": 4,
   "metadata": {},
   "outputs": [
    {
     "data": {
      "image/png": "[encoded data removed]",
      "text/plain": [
       "<Figure size 648x288 with 1 Axes>"
      ]
     },
     "metadata": {},
     "output_type": "display_data"
    }
   ],
   "source": [
    "ax = sns.countplot(\n",
    "    x=\"carrier\", \n",
    "    hue=\"tonsil\", \n",
    "    data=tonsils, \n",
    "    palette=sns.cubehelix_palette(3, start=.5, hue=0.75, rot=-.75, reverse=True)\n",
    ")\n",
    "ax.set_xlabel(r'Is carrier of $S. pyogenes$')\n",
    "ax.set_ylabel('Count')    \n",
    "ax.legend(loc=1, frameon=False, title=\"Tonsil size\", bbox_to_anchor=(1.35, 0.75))\n",
    "sns.despine()"
   ]
  },
  {
   "cell_type": "code",
   "execution_count": 5,
   "metadata": {},
   "outputs": [
    {
     "name": "stderr",
     "output_type": "stream",
     "text": [
      "INFO:pystan:COMPILING THE C++ CODE FOR MODEL cumulative_model_771a36be0f75ba552511255ad665abcc NOW.\n"
     ]
    }
   ],
   "source": [
    "tonsil_fit_cumulative = fit(\"tonsil ~ carrier\", tonsils, family=\"cumulative\")"
   ]
  },
  {
   "cell_type": "code",
   "execution_count": 6,
   "metadata": {},
   "outputs": [
    {
     "data": {
      "text/plain": [
       "Inference for Stan model: cumulative_model_771a36be0f75ba552511255ad665abcc.\n",
       "4 chains, each with iter=2000; warmup=1000; thin=1; \n",
       "post-warmup draws per chain=1000, total post-warmup draws=4000.\n",
       "\n",
       "               mean se_mean     sd   2.5%    25%    50%    75%  97.5%  n_eff   Rhat\n",
       "threshold[1]  -0.68    0.02   0.76  -2.14   -1.2  -0.69  -0.16   0.86   1440    1.0\n",
       "threshold[2]   1.19    0.02   0.76  -0.28   0.67   1.18    1.7   2.74   1411    1.0\n",
       "beta[1]       -0.17    0.02   0.76  -1.66  -0.69  -0.18   0.34   1.36   1407    1.0\n",
       "beta[2]        0.57  5.1e-3   0.23   0.12   0.42   0.56   0.72   1.02   1984    1.0\n",
       "lp__          -1480    0.04   1.49  -1484  -1481  -1480  -1479  -1478   1369    1.0\n",
       "\n",
       "Samples were drawn using NUTS at Sat May 30 22:49:01 2020.\n",
       "For each parameter, n_eff is a crude measure of effective sample size,\n",
       "and Rhat is the potential scale reduction factor on split chains (at \n",
       "convergence, Rhat=1)."
      ]
     },
     "execution_count": 6,
     "metadata": {},
     "output_type": "execute_result"
    }
   ],
   "source": [
    "tonsil_fit_cumulative"
   ]
  },
  {
   "cell_type": "code",
   "execution_count": 8,
   "metadata": {},
   "outputs": [
    {
     "name": "stderr",
     "output_type": "stream",
     "text": [
      "INFO:pystan:COMPILING THE C++ CODE FOR MODEL sratio_model_b0a007853f6789e0b086ca0e5ba5f5c3 NOW.\n"
     ]
    }
   ],
   "source": [
    "tonsil_fit_sratio = fit(\"tonsil ~ carrier\", tonsils, family=\"sratio\")"
   ]
  },
  {
   "cell_type": "code",
   "execution_count": 9,
   "metadata": {},
   "outputs": [
    {
     "data": {
      "text/plain": [
       "Inference for Stan model: sratio_model_b0a007853f6789e0b086ca0e5ba5f5c3.\n",
       "4 chains, each with iter=2000; warmup=1000; thin=1; \n",
       "post-warmup draws per chain=1000, total post-warmup draws=4000.\n",
       "\n",
       "               mean se_mean     sd   2.5%    25%    50%    75%  97.5%  n_eff   Rhat\n",
       "threshold[1]  -0.55    0.02   0.73  -1.95  -1.06  -0.56  -0.07   0.93   1468    1.0\n",
       "threshold[2]   0.69    0.02   0.73  -0.72   0.18   0.69   1.18   2.18   1468    1.0\n",
       "beta[1]       -0.04    0.02   0.73  -1.43  -0.54  -0.05   0.45   1.45   1461    1.0\n",
       "beta[2]        0.51  3.7e-3   0.19   0.14   0.38   0.51   0.64   0.88   2607    1.0\n",
       "lp__          -1480    0.04    1.4  -1484  -1481  -1480  -1479  -1478   1459    1.0\n",
       "\n",
       "Samples were drawn using NUTS at Sat May 30 22:52:05 2020.\n",
       "For each parameter, n_eff is a crude measure of effective sample size,\n",
       "and Rhat is the potential scale reduction factor on split chains (at \n",
       "convergence, Rhat=1)."
      ]
     },
     "execution_count": 9,
     "metadata": {},
     "output_type": "execute_result"
    }
   ],
   "source": [
    "tonsil_fit_sratio"
   ]
  },
  {
   "cell_type": "code",
   "execution_count": 10,
   "metadata": {},
   "outputs": [
    {
     "name": "stderr",
     "output_type": "stream",
     "text": [
      "INFO:pystan:COMPILING THE C++ CODE FOR MODEL cratio_model_ae9be96733f848d5837ba608518860f8 NOW.\n"
     ]
    }
   ],
   "source": [
    "tonsil_fit_cratio = fit(\"tonsil ~ carrier\", tonsils, family=\"cratio\")"
   ]
  },
  {
   "cell_type": "code",
   "execution_count": 21,
   "metadata": {},
   "outputs": [
    {
     "data": {
      "text/plain": [
       "Inference for Stan model: cratio_model_ae9be96733f848d5837ba608518860f8.\n",
       "4 chains, each with iter=2000; warmup=1000; thin=1; \n",
       "post-warmup draws per chain=1000, total post-warmup draws=4000.\n",
       "\n",
       "               mean se_mean     sd   2.5%    25%    50%    75%  97.5%  n_eff   Rhat\n",
       "threshold[1]  -0.56    0.02   0.73   -2.0  -1.02  -0.56   -0.1   0.91   1154    1.0\n",
       "threshold[2]   0.69    0.02   0.73  -0.75   0.21   0.67   1.15   2.16   1159    1.0\n",
       "beta[1]       -0.04    0.02   0.73  -1.48  -0.51  -0.05   0.41   1.43   1139    1.0\n",
       "beta[2]        0.51  4.2e-3    0.2   0.12   0.39   0.51   0.64   0.91   2202    1.0\n",
       "lp__          -1480    0.04   1.44  -1484  -1481  -1480  -1479  -1478   1445    1.0\n",
       "\n",
       "Samples were drawn using NUTS at Sat May 30 22:53:02 2020.\n",
       "For each parameter, n_eff is a crude measure of effective sample size,\n",
       "and Rhat is the potential scale reduction factor on split chains (at \n",
       "convergence, Rhat=1)."
      ]
     },
     "execution_count": 21,
     "metadata": {},
     "output_type": "execute_result"
    }
   ],
   "source": [
    "tonsil_fit_cratio"
   ]
  },
  {
   "cell_type": "markdown",
   "metadata": {},
   "source": [
    "## Wine tasting data"
   ]
  },
  {
   "cell_type": "code",
   "execution_count": 2,
   "metadata": {},
   "outputs": [],
   "source": [
    "wine = data(\"wine\")"
   ]
  },
  {
   "cell_type": "code",
   "execution_count": 3,
   "metadata": {},
   "outputs": [
    {
     "data": {
      "text/html": [
       "<div>\n",
       "<style scoped>\n",
       "    .dataframe tbody tr th:only-of-type {\n",
       "        vertical-align: middle;\n",
       "    }\n",
       "\n",
       "    .dataframe tbody tr th {\n",
       "        vertical-align: top;\n",
       "    }\n",
       "\n",
       "    .dataframe thead th {\n",
       "        text-align: right;\n",
       "    }\n",
       "</style>\n",
       "<table border=\"1\" class=\"dataframe\">\n",
       "  <thead>\n",
       "    <tr style=\"text-align: right;\">\n",
       "      <th></th>\n",
       "      <th>rating</th>\n",
       "      <th>temperature</th>\n",
       "      <th>contact</th>\n",
       "      <th>bottle</th>\n",
       "      <th>judge</th>\n",
       "    </tr>\n",
       "  </thead>\n",
       "  <tbody>\n",
       "    <tr>\n",
       "      <th>0</th>\n",
       "      <td>2</td>\n",
       "      <td>low</td>\n",
       "      <td>no</td>\n",
       "      <td>1</td>\n",
       "      <td>1</td>\n",
       "    </tr>\n",
       "    <tr>\n",
       "      <th>1</th>\n",
       "      <td>1</td>\n",
       "      <td>low</td>\n",
       "      <td>no</td>\n",
       "      <td>1</td>\n",
       "      <td>2</td>\n",
       "    </tr>\n",
       "    <tr>\n",
       "      <th>2</th>\n",
       "      <td>2</td>\n",
       "      <td>low</td>\n",
       "      <td>no</td>\n",
       "      <td>1</td>\n",
       "      <td>3</td>\n",
       "    </tr>\n",
       "    <tr>\n",
       "      <th>3</th>\n",
       "      <td>3</td>\n",
       "      <td>low</td>\n",
       "      <td>no</td>\n",
       "      <td>1</td>\n",
       "      <td>4</td>\n",
       "    </tr>\n",
       "    <tr>\n",
       "      <th>4</th>\n",
       "      <td>2</td>\n",
       "      <td>low</td>\n",
       "      <td>no</td>\n",
       "      <td>1</td>\n",
       "      <td>5</td>\n",
       "    </tr>\n",
       "    <tr>\n",
       "      <th>...</th>\n",
       "      <td>...</td>\n",
       "      <td>...</td>\n",
       "      <td>...</td>\n",
       "      <td>...</td>\n",
       "      <td>...</td>\n",
       "    </tr>\n",
       "    <tr>\n",
       "      <th>67</th>\n",
       "      <td>3</td>\n",
       "      <td>high</td>\n",
       "      <td>yes</td>\n",
       "      <td>2</td>\n",
       "      <td>5</td>\n",
       "    </tr>\n",
       "    <tr>\n",
       "      <th>68</th>\n",
       "      <td>4</td>\n",
       "      <td>high</td>\n",
       "      <td>yes</td>\n",
       "      <td>2</td>\n",
       "      <td>6</td>\n",
       "    </tr>\n",
       "    <tr>\n",
       "      <th>69</th>\n",
       "      <td>3</td>\n",
       "      <td>high</td>\n",
       "      <td>yes</td>\n",
       "      <td>2</td>\n",
       "      <td>7</td>\n",
       "    </tr>\n",
       "    <tr>\n",
       "      <th>70</th>\n",
       "      <td>4</td>\n",
       "      <td>high</td>\n",
       "      <td>yes</td>\n",
       "      <td>2</td>\n",
       "      <td>8</td>\n",
       "    </tr>\n",
       "    <tr>\n",
       "      <th>71</th>\n",
       "      <td>4</td>\n",
       "      <td>high</td>\n",
       "      <td>yes</td>\n",
       "      <td>2</td>\n",
       "      <td>9</td>\n",
       "    </tr>\n",
       "  </tbody>\n",
       "</table>\n",
       "<p>72 rows × 5 columns</p>\n",
       "</div>"
      ],
      "text/plain": [
       "   rating temperature contact bottle judge\n",
       "0       2         low      no      1     1\n",
       "1       1         low      no      1     2\n",
       "2       2         low      no      1     3\n",
       "3       3         low      no      1     4\n",
       "4       2         low      no      1     5\n",
       "..    ...         ...     ...    ...   ...\n",
       "67      3        high     yes      2     5\n",
       "68      4        high     yes      2     6\n",
       "69      3        high     yes      2     7\n",
       "70      4        high     yes      2     8\n",
       "71      4        high     yes      2     9\n",
       "\n",
       "[72 rows x 5 columns]"
      ]
     },
     "execution_count": 3,
     "metadata": {},
     "output_type": "execute_result"
    }
   ],
   "source": [
    "wine"
   ]
  },
  {
   "cell_type": "code",
   "execution_count": 24,
   "metadata": {},
   "outputs": [
    {
     "data": {
      "image/png": "[encoded data removed]",
      "text/plain": [
       "<Figure size 648x864 with 3 Axes>"
      ]
     },
     "metadata": {},
     "output_type": "display_data"
    }
   ],
   "source": [
    "plt.rcParams[\"figure.figsize\"] = (9, 12)\n",
    "covars = list(wine.columns[1:-1])\n",
    "for (i, covar) in enumerate(covars):\n",
    "    plt.subplot(len(covars), 1, i + 1)\n",
    "    ax = sns.countplot(\n",
    "        x=covar, \n",
    "        hue=\"rating\", \n",
    "        data=wine, \n",
    "        palette=sns.cubehelix_palette(len(np.unique(wine.rating)), start=.5, hue=0.75, rot=-.75, reverse=True)\n",
    "    )   \n",
    "    ax.set_xlabel(covar.capitalize())\n",
    "    ax.set_ylabel(\"Count\")\n",
    "    ax.legend(loc=1, frameon=False, title=\"Rating\", bbox_to_anchor=(1.15, 0.75))\n",
    "    sns.despine()"
   ]
  },
  {
   "cell_type": "code",
   "execution_count": 25,
   "metadata": {},
   "outputs": [
    {
     "data": {
      "image/png": "[encoded data removed]",
      "text/plain": [
       "<Figure size 1008x432 with 1 Axes>"
      ]
     },
     "metadata": {},
     "output_type": "display_data"
    }
   ],
   "source": [
    "plt.rcParams[\"figure.figsize\"] = (14, 6)\n",
    "ax = sns.countplot(\n",
    "    x=\"judge\", \n",
    "    hue=\"rating\", \n",
    "    data=wine, \n",
    "    palette=sns.cubehelix_palette(len(np.unique(wine.rating)), start=.5, hue=0.75, rot=-.75, reverse=True)\n",
    ")\n",
    "ax.set_xlabel(\"Judge\")\n",
    "ax.set_ylabel(\"Count\")\n",
    "ax.legend(loc=1, frameon=False, title=\"Rating\", bbox_to_anchor=(1.15, 0.75))\n",
    "sns.despine()"
   ]
  },
  {
   "cell_type": "code",
   "execution_count": 5,
   "metadata": {},
   "outputs": [
    {
     "name": "stderr",
     "output_type": "stream",
     "text": [
      "INFO:pystan:COMPILING THE C++ CODE FOR MODEL cumulative_model_3befeca23af346fee854e3535b738d92 NOW.\n"
     ]
    }
   ],
   "source": [
    "wine_fit_cumulative = fit(\n",
    "    \"rating ~ temperature + contact + bottle + (1 | judge)\", \n",
    "    wine, \n",
    "    family=\"cumulative\"\n",
    ")"
   ]
  },
  {
   "cell_type": "code",
   "execution_count": 27,
   "metadata": {},
   "outputs": [
    {
     "data": {
      "text/plain": [
       "Inference for Stan model: cumulative_model_3befeca23af346fee854e3535b738d92.\n",
       "4 chains, each with iter=2000; warmup=1000; thin=1; \n",
       "post-warmup draws per chain=1000, total post-warmup draws=4000.\n",
       "\n",
       "               mean se_mean     sd   2.5%    25%    50%    75%  97.5%  n_eff   Rhat\n",
       "threshold[1]  -2.67    0.02   0.89   -4.5  -3.26  -2.64  -2.08  -0.97   2596    1.0\n",
       "threshold[2]  -0.04    0.01   0.78  -1.58  -0.56  -0.05    0.5   1.51   3673    1.0\n",
       "threshold[3]   2.14    0.01   0.83   0.56   1.57   2.12   2.69   3.85   3837    1.0\n",
       "threshold[4]   3.75    0.02   0.92    2.0   3.13   3.74   4.34    5.6   3473    1.0\n",
       "beta[1]       -0.84    0.01   0.78  -2.44  -1.35  -0.84  -0.32   0.66   3257    1.0\n",
       "beta[2]        2.08  8.1e-3   0.45   1.23   1.78   2.07   2.38   2.96   3079    1.0\n",
       "beta[3]        1.22  6.8e-3   0.42   0.41   0.94   1.21   1.49   2.06   3727    1.0\n",
       "beta[4]         0.1  5.6e-3    0.4  -0.65  -0.17   0.09   0.36   0.89   5046    1.0\n",
       "gamma[1]       1.13    0.02   0.66  -0.05   0.66   1.09   1.55   2.52   1786    1.0\n",
       "gamma[2]      -0.54    0.01   0.67  -2.01  -0.95  -0.47  -0.08   0.66   2438    1.0\n",
       "gamma[3]       0.65    0.01   0.62  -0.51    0.2   0.62   1.04   1.95   2724    1.0\n",
       "gamma[4]      -0.15    0.01   0.62  -1.43  -0.52  -0.12   0.24   1.03   3329    1.0\n",
       "gamma[5]       0.07    0.01   0.61  -1.16  -0.31   0.07   0.46    1.3   3296    1.0\n",
       "gamma[6]       0.24  9.9e-3    0.6  -0.93  -0.13   0.23   0.63   1.48   3683    1.0\n",
       "gamma[7]      -1.51    0.02   0.82  -3.17  -2.05  -1.47  -0.92  -0.04   1260    1.0\n",
       "gamma[8]      -0.29    0.01   0.59  -1.56  -0.65  -0.25   0.09    0.8   3252    1.0\n",
       "gamma[9]      -0.51    0.01   0.64  -1.91  -0.89  -0.46  -0.07   0.64   2334    1.0\n",
       "sigma[1]       0.97  9.3e-3   0.22   0.51   0.84   0.97   1.11   1.42    571   1.01\n",
       "lp__         -93.41    0.16   3.65 -100.6 -95.64 -93.29 -91.09 -86.64    530   1.01\n",
       "\n",
       "Samples were drawn using NUTS at Sat May 30 23:17:21 2020.\n",
       "For each parameter, n_eff is a crude measure of effective sample size,\n",
       "and Rhat is the potential scale reduction factor on split chains (at \n",
       "convergence, Rhat=1)."
      ]
     },
     "execution_count": 27,
     "metadata": {},
     "output_type": "execute_result"
    }
   ],
   "source": [
    "wine_fit_cumulative"
   ]
  },
  {
   "cell_type": "code",
   "execution_count": 28,
   "metadata": {},
   "outputs": [
    {
     "name": "stderr",
     "output_type": "stream",
     "text": [
      "INFO:pystan:COMPILING THE C++ CODE FOR MODEL sratio_model_423c3c53167d2676a49e1ef4786f9b42 NOW.\n"
     ]
    }
   ],
   "source": [
    "wine_fit_sratio = fit(\n",
    "    \"rating ~ temperature + contact + bottle + (1 | judge)\", \n",
    "    wine, \n",
    "    family=\"sratio\"\n",
    ")"
   ]
  },
  {
   "cell_type": "code",
   "execution_count": 29,
   "metadata": {},
   "outputs": [
    {
     "data": {
      "text/plain": [
       "Inference for Stan model: sratio_model_423c3c53167d2676a49e1ef4786f9b42.\n",
       "4 chains, each with iter=2000; warmup=1000; thin=1; \n",
       "post-warmup draws per chain=1000, total post-warmup draws=4000.\n",
       "\n",
       "               mean se_mean     sd   2.5%    25%     50%    75%  97.5%  n_eff   Rhat\n",
       "threshold[1]  -2.45    0.02   0.89  -4.27  -3.03   -2.44  -1.85  -0.75   2899    1.0\n",
       "threshold[2]  -0.06    0.01   0.76  -1.51  -0.57   -0.07   0.45   1.47   4088    1.0\n",
       "threshold[3]    1.7    0.01   0.82   0.16   1.15    1.68   2.24   3.36   3646    1.0\n",
       "threshold[4]   2.71    0.02   0.92   1.02   2.07    2.67   3.33   4.59   3171    1.0\n",
       "beta[1]       -0.67    0.01   0.75  -2.15  -1.18   -0.68  -0.16   0.78   3224    1.0\n",
       "beta[2]        1.95  7.3e-3   0.41   1.17   1.68    1.94   2.22   2.78   3165    1.0\n",
       "beta[3]        1.11  6.0e-3   0.37   0.41   0.86     1.1   1.35   1.88   3765    1.0\n",
       "beta[4]       -0.01  4.5e-3   0.35  -0.69  -0.25 -8.5e-3   0.23   0.67   5961    1.0\n",
       "gamma[1]       0.94    0.02    0.6  -0.11   0.51     0.9   1.33   2.21   1533    1.0\n",
       "gamma[2]      -0.37    0.01   0.58  -1.62  -0.71   -0.32 8.1e-3   0.72   2057    1.0\n",
       "gamma[3]       0.66    0.01   0.57  -0.32   0.26    0.62   1.01   1.87   1917    1.0\n",
       "gamma[4]      -0.05    0.01   0.55  -1.23  -0.38   -0.03   0.29   1.02   1776    1.0\n",
       "gamma[5]       0.09    0.01   0.55  -1.06  -0.23    0.08   0.43   1.17   2226    1.0\n",
       "gamma[6]       0.22    0.01   0.55  -0.84  -0.12    0.21   0.57   1.34   2351    1.0\n",
       "gamma[7]      -1.34    0.02   0.77  -3.03  -1.83    -1.3  -0.79  -0.02   1151    1.0\n",
       "gamma[8]      -0.32    0.01   0.55  -1.52  -0.64   -0.27   0.03    0.7   1910    1.0\n",
       "gamma[9]      -0.48    0.01   0.57   -1.7  -0.83   -0.43  -0.09   0.54   1730    1.0\n",
       "sigma[1]       0.91  8.2e-3   0.22   0.45   0.78    0.91   1.05   1.36    706   1.01\n",
       "lp__         -90.77    0.14   3.86 -99.02 -93.04   -90.6 -88.35 -83.67    723    1.0\n",
       "\n",
       "Samples were drawn using NUTS at Sat May 30 23:17:57 2020.\n",
       "For each parameter, n_eff is a crude measure of effective sample size,\n",
       "and Rhat is the potential scale reduction factor on split chains (at \n",
       "convergence, Rhat=1)."
      ]
     },
     "execution_count": 29,
     "metadata": {},
     "output_type": "execute_result"
    }
   ],
   "source": [
    "wine_fit_sratio"
   ]
  },
  {
   "cell_type": "code",
   "execution_count": 30,
   "metadata": {},
   "outputs": [
    {
     "name": "stderr",
     "output_type": "stream",
     "text": [
      "INFO:pystan:COMPILING THE C++ CODE FOR MODEL cratio_model_516f9cb241e60aeae07b69cf5929550b NOW.\n"
     ]
    }
   ],
   "source": [
    "wine_fit_cratio = fit(\n",
    "    \"rating ~ temperature + contact + bottle + (1 | judge)\", \n",
    "    wine, \n",
    "    family=\"cratio\"\n",
    ")"
   ]
  },
  {
   "cell_type": "code",
   "execution_count": 32,
   "metadata": {},
   "outputs": [
    {
     "data": {
      "text/plain": [
       "Inference for Stan model: cratio_model_516f9cb241e60aeae07b69cf5929550b.\n",
       "4 chains, each with iter=2000; warmup=1000; thin=1; \n",
       "post-warmup draws per chain=1000, total post-warmup draws=4000.\n",
       "\n",
       "               mean se_mean     sd   2.5%    25%    50%    75%  97.5%  n_eff   Rhat\n",
       "threshold[1]  -2.41    0.02   0.85  -4.11  -2.98  -2.39  -1.84  -0.74   2458    1.0\n",
       "threshold[2]  -0.03    0.01   0.77  -1.47  -0.56  -0.05   0.48    1.5   3303    1.0\n",
       "threshold[3]   1.72    0.01   0.83   0.19   1.14   1.69   2.29   3.43   3174    1.0\n",
       "threshold[4]   2.71    0.02   0.93    1.0   2.06   2.68   3.32    4.6   2863    1.0\n",
       "beta[1]       -0.65    0.01   0.73  -2.05  -1.15  -0.66  -0.16   0.83   2868    1.0\n",
       "beta[2]        1.94  7.3e-3   0.42   1.14   1.65   1.93   2.22   2.78   3289    1.0\n",
       "beta[3]        1.11  6.1e-3   0.38   0.38   0.85    1.1   1.36   1.88   3895    1.0\n",
       "beta[4]       -0.02  5.0e-3   0.36  -0.72  -0.26  -0.02   0.22   0.72   5261    1.0\n",
       "gamma[1]       0.93    0.01   0.56  -0.05   0.53   0.89   1.29   2.14   1867    1.0\n",
       "gamma[2]      -0.35    0.01   0.55  -1.51   -0.7  -0.31   0.01   0.67   2694    1.0\n",
       "gamma[3]       0.65    0.01   0.55  -0.32   0.27   0.61    1.0   1.84   2778    1.0\n",
       "gamma[4]      -0.04  8.5e-3   0.51   -1.1  -0.35  -0.04   0.27   0.99   3553    1.0\n",
       "gamma[5]       0.09  8.4e-3   0.51  -0.97  -0.24   0.08   0.41   1.12   3790    1.0\n",
       "gamma[6]       0.22  9.5e-3   0.52  -0.76  -0.11    0.2   0.55   1.31   3001    1.0\n",
       "gamma[7]       -1.3    0.02   0.73  -2.89  -1.77  -1.25  -0.78  -0.03   1436    1.0\n",
       "gamma[8]      -0.31  8.9e-3   0.51   -1.4  -0.64  -0.28   0.02   0.65   3350    1.0\n",
       "gamma[9]      -0.46    0.01   0.55  -1.65  -0.79  -0.42  -0.09   0.52   2428    1.0\n",
       "sigma[1]        0.9  7.3e-3   0.21   0.47   0.77    0.9   1.03    1.3    786    1.0\n",
       "lp__         -90.66    0.12   3.61 -98.32 -92.81 -90.44 -88.29 -84.01    969    1.0\n",
       "\n",
       "Samples were drawn using NUTS at Sat May 30 23:18:36 2020.\n",
       "For each parameter, n_eff is a crude measure of effective sample size,\n",
       "and Rhat is the potential scale reduction factor on split chains (at \n",
       "convergence, Rhat=1)."
      ]
     },
     "execution_count": 32,
     "metadata": {},
     "output_type": "execute_result"
    }
   ],
   "source": [
    "wine_fit_cratio"
   ]
  },
  {
   "cell_type": "code",
   "execution_count": 6,
   "metadata": {},
   "outputs": [],
   "source": [
    "from modelframe import model_frame"
   ]
  },
  {
   "cell_type": "code",
   "execution_count": 15,
   "metadata": {},
   "outputs": [
    {
     "ename": "TypeError",
     "evalue": "categories must match existing categories when appending",
     "output_type": "error",
     "traceback": [
      "\u001b[0;31m---------------------------------------------------------------------------\u001b[0m",
      "\u001b[0;31mTypeError\u001b[0m                                 Traceback (most recent call last)",
      "\u001b[0;32m<ipython-input-15-0e9092063c51>\u001b[0m in \u001b[0;36m<module>\u001b[0;34m\u001b[0m\n\u001b[0;32m----> 1\u001b[0;31m \u001b[0mframe\u001b[0m \u001b[0;34m=\u001b[0m \u001b[0mmodel_frame\u001b[0m\u001b[0;34m(\u001b[0m\u001b[0;34m\"~ 0 + temperature + contact + bottle\"\u001b[0m\u001b[0;34m,\u001b[0m \u001b[0mwine\u001b[0m\u001b[0;34m)\u001b[0m\u001b[0;34m\u001b[0m\u001b[0;34m\u001b[0m\u001b[0m\n\u001b[0m",
      "\u001b[0;32m~/miniconda3/envs/pystan/lib/python3.7/site-packages/modelframe/modelframe.py\u001b[0m in \u001b[0;36mmodel_frame\u001b[0;34m(formula, data)\u001b[0m\n\u001b[1;32m    115\u001b[0m         \u001b[0;32mraise\u001b[0m \u001b[0mValueError\u001b[0m\u001b[0;34m(\u001b[0m\u001b[0;34m\"formula needs to contain a '~'\"\u001b[0m\u001b[0;34m)\u001b[0m\u001b[0;34m\u001b[0m\u001b[0;34m\u001b[0m\u001b[0m\n\u001b[1;32m    116\u001b[0m     \u001b[0mels\u001b[0m \u001b[0;34m=\u001b[0m \u001b[0mlist\u001b[0m\u001b[0;34m(\u001b[0m\u001b[0mmap\u001b[0m\u001b[0;34m(\u001b[0m\u001b[0;32mlambda\u001b[0m \u001b[0mx\u001b[0m\u001b[0;34m:\u001b[0m \u001b[0mx\u001b[0m\u001b[0;34m.\u001b[0m\u001b[0mstrip\u001b[0m\u001b[0;34m(\u001b[0m\u001b[0;34m)\u001b[0m\u001b[0;34m,\u001b[0m \u001b[0mformula\u001b[0m\u001b[0;34m.\u001b[0m\u001b[0msplit\u001b[0m\u001b[0;34m(\u001b[0m\u001b[0;34m\"~\"\u001b[0m\u001b[0;34m)\u001b[0m\u001b[0;34m)\u001b[0m\u001b[0;34m)\u001b[0m\u001b[0;34m\u001b[0m\u001b[0;34m\u001b[0m\u001b[0m\n\u001b[0;32m--> 117\u001b[0;31m     \u001b[0mX\u001b[0m\u001b[0;34m,\u001b[0m \u001b[0mZ\u001b[0m\u001b[0;34m,\u001b[0m \u001b[0mZlist\u001b[0m \u001b[0;34m=\u001b[0m \u001b[0m_compute_model_matrices\u001b[0m\u001b[0;34m(\u001b[0m\u001b[0mels\u001b[0m\u001b[0;34m[\u001b[0m\u001b[0;36m1\u001b[0m\u001b[0;34m]\u001b[0m\u001b[0;34m,\u001b[0m \u001b[0mdata\u001b[0m\u001b[0;34m)\u001b[0m\u001b[0;34m\u001b[0m\u001b[0;34m\u001b[0m\u001b[0m\n\u001b[0m\u001b[1;32m    118\u001b[0m     \u001b[0mY\u001b[0m \u001b[0;34m=\u001b[0m \u001b[0m_compute_response\u001b[0m\u001b[0;34m(\u001b[0m\u001b[0mels\u001b[0m\u001b[0;34m[\u001b[0m\u001b[0;36m0\u001b[0m\u001b[0;34m]\u001b[0m\u001b[0;34m,\u001b[0m \u001b[0mdata\u001b[0m\u001b[0;34m)\u001b[0m\u001b[0;34m\u001b[0m\u001b[0;34m\u001b[0m\u001b[0m\n\u001b[1;32m    119\u001b[0m \u001b[0;34m\u001b[0m\u001b[0m\n",
      "\u001b[0;32m~/miniconda3/envs/pystan/lib/python3.7/site-packages/modelframe/modelframe.py\u001b[0m in \u001b[0;36m_compute_model_matrices\u001b[0;34m(rhs, data)\u001b[0m\n\u001b[1;32m    191\u001b[0m     \u001b[0mranef_terms\u001b[0m \u001b[0;34m=\u001b[0m \u001b[0mget_random_effects_terms\u001b[0m\u001b[0;34m(\u001b[0m\u001b[0mrhs\u001b[0m\u001b[0;34m)\u001b[0m\u001b[0;34m\u001b[0m\u001b[0;34m\u001b[0m\u001b[0m\n\u001b[1;32m    192\u001b[0m \u001b[0;34m\u001b[0m\u001b[0m\n\u001b[0;32m--> 193\u001b[0;31m     \u001b[0mX\u001b[0m\u001b[0;34m,\u001b[0m \u001b[0m_\u001b[0m \u001b[0;34m=\u001b[0m \u001b[0m_fixed_effects_model_matrix\u001b[0m\u001b[0;34m(\u001b[0m\u001b[0mcoef_terms\u001b[0m\u001b[0;34m,\u001b[0m \u001b[0mdata\u001b[0m\u001b[0;34m)\u001b[0m\u001b[0;34m\u001b[0m\u001b[0;34m\u001b[0m\u001b[0m\n\u001b[0m\u001b[1;32m    194\u001b[0m     \u001b[0mZ\u001b[0m\u001b[0;34m,\u001b[0m \u001b[0mZlist\u001b[0m \u001b[0;34m=\u001b[0m \u001b[0m_random_effects_model_matrices\u001b[0m\u001b[0;34m(\u001b[0m\u001b[0mranef_terms\u001b[0m\u001b[0;34m,\u001b[0m \u001b[0mdata\u001b[0m\u001b[0;34m)\u001b[0m\u001b[0;34m\u001b[0m\u001b[0;34m\u001b[0m\u001b[0m\n\u001b[1;32m    195\u001b[0m \u001b[0;34m\u001b[0m\u001b[0m\n",
      "\u001b[0;32m~/miniconda3/envs/pystan/lib/python3.7/site-packages/modelframe/modelframe.py\u001b[0m in \u001b[0;36m_fixed_effects_model_matrix\u001b[0;34m(terms, data, error_no_categorical)\u001b[0m\n\u001b[1;32m    160\u001b[0m \u001b[0;34m\u001b[0m\u001b[0m\n\u001b[1;32m    161\u001b[0m     \u001b[0;32mif\u001b[0m \u001b[0mlen\u001b[0m\u001b[0;34m(\u001b[0m\u001b[0mX\u001b[0m\u001b[0;34m)\u001b[0m\u001b[0;34m:\u001b[0m\u001b[0;34m\u001b[0m\u001b[0;34m\u001b[0m\u001b[0m\n\u001b[0;32m--> 162\u001b[0;31m         \u001b[0mX\u001b[0m \u001b[0;34m=\u001b[0m \u001b[0mpd\u001b[0m\u001b[0;34m.\u001b[0m\u001b[0mconcat\u001b[0m\u001b[0;34m(\u001b[0m\u001b[0mX\u001b[0m\u001b[0;34m,\u001b[0m \u001b[0maxis\u001b[0m\u001b[0;34m=\u001b[0m\u001b[0;36m1\u001b[0m\u001b[0;34m)\u001b[0m\u001b[0;34m\u001b[0m\u001b[0;34m\u001b[0m\u001b[0m\n\u001b[0m\u001b[1;32m    163\u001b[0m         \u001b[0;32mreturn\u001b[0m \u001b[0mX\u001b[0m\u001b[0;34m,\u001b[0m \u001b[0mlist\u001b[0m\u001b[0;34m(\u001b[0m\u001b[0mX\u001b[0m\u001b[0;34m.\u001b[0m\u001b[0mcolumns\u001b[0m\u001b[0;34m)\u001b[0m\u001b[0;34m\u001b[0m\u001b[0;34m\u001b[0m\u001b[0m\n\u001b[1;32m    164\u001b[0m     \u001b[0;32mreturn\u001b[0m \u001b[0;32mNone\u001b[0m\u001b[0;34m,\u001b[0m \u001b[0;32mNone\u001b[0m\u001b[0;34m\u001b[0m\u001b[0;34m\u001b[0m\u001b[0m\n",
      "\u001b[0;32m~/miniconda3/envs/pystan/lib/python3.7/site-packages/pandas/core/reshape/concat.py\u001b[0m in \u001b[0;36mconcat\u001b[0;34m(objs, axis, join, ignore_index, keys, levels, names, verify_integrity, sort, copy)\u001b[0m\n\u001b[1;32m    279\u001b[0m         \u001b[0mverify_integrity\u001b[0m\u001b[0;34m=\u001b[0m\u001b[0mverify_integrity\u001b[0m\u001b[0;34m,\u001b[0m\u001b[0;34m\u001b[0m\u001b[0;34m\u001b[0m\u001b[0m\n\u001b[1;32m    280\u001b[0m         \u001b[0mcopy\u001b[0m\u001b[0;34m=\u001b[0m\u001b[0mcopy\u001b[0m\u001b[0;34m,\u001b[0m\u001b[0;34m\u001b[0m\u001b[0;34m\u001b[0m\u001b[0m\n\u001b[0;32m--> 281\u001b[0;31m         \u001b[0msort\u001b[0m\u001b[0;34m=\u001b[0m\u001b[0msort\u001b[0m\u001b[0;34m,\u001b[0m\u001b[0;34m\u001b[0m\u001b[0;34m\u001b[0m\u001b[0m\n\u001b[0m\u001b[1;32m    282\u001b[0m     )\n\u001b[1;32m    283\u001b[0m \u001b[0;34m\u001b[0m\u001b[0m\n",
      "\u001b[0;32m~/miniconda3/envs/pystan/lib/python3.7/site-packages/pandas/core/reshape/concat.py\u001b[0m in \u001b[0;36m__init__\u001b[0;34m(self, objs, axis, join, keys, levels, names, ignore_index, verify_integrity, copy, sort)\u001b[0m\n\u001b[1;32m    450\u001b[0m         \u001b[0mself\u001b[0m\u001b[0;34m.\u001b[0m\u001b[0mcopy\u001b[0m \u001b[0;34m=\u001b[0m \u001b[0mcopy\u001b[0m\u001b[0;34m\u001b[0m\u001b[0;34m\u001b[0m\u001b[0m\n\u001b[1;32m    451\u001b[0m \u001b[0;34m\u001b[0m\u001b[0m\n\u001b[0;32m--> 452\u001b[0;31m         \u001b[0mself\u001b[0m\u001b[0;34m.\u001b[0m\u001b[0mnew_axes\u001b[0m \u001b[0;34m=\u001b[0m \u001b[0mself\u001b[0m\u001b[0;34m.\u001b[0m\u001b[0m_get_new_axes\u001b[0m\u001b[0;34m(\u001b[0m\u001b[0;34m)\u001b[0m\u001b[0;34m\u001b[0m\u001b[0;34m\u001b[0m\u001b[0m\n\u001b[0m\u001b[1;32m    453\u001b[0m \u001b[0;34m\u001b[0m\u001b[0m\n\u001b[1;32m    454\u001b[0m     \u001b[0;32mdef\u001b[0m \u001b[0mget_result\u001b[0m\u001b[0;34m(\u001b[0m\u001b[0mself\u001b[0m\u001b[0;34m)\u001b[0m\u001b[0;34m:\u001b[0m\u001b[0;34m\u001b[0m\u001b[0;34m\u001b[0m\u001b[0m\n",
      "\u001b[0;32m~/miniconda3/envs/pystan/lib/python3.7/site-packages/pandas/core/reshape/concat.py\u001b[0m in \u001b[0;36m_get_new_axes\u001b[0;34m(self)\u001b[0m\n\u001b[1;32m    515\u001b[0m         return [\n\u001b[1;32m    516\u001b[0m             \u001b[0mself\u001b[0m\u001b[0;34m.\u001b[0m\u001b[0m_get_concat_axis\u001b[0m\u001b[0;34m(\u001b[0m\u001b[0;34m)\u001b[0m \u001b[0;32mif\u001b[0m \u001b[0mi\u001b[0m \u001b[0;34m==\u001b[0m \u001b[0mself\u001b[0m\u001b[0;34m.\u001b[0m\u001b[0maxis\u001b[0m \u001b[0;32melse\u001b[0m \u001b[0mself\u001b[0m\u001b[0;34m.\u001b[0m\u001b[0m_get_comb_axis\u001b[0m\u001b[0;34m(\u001b[0m\u001b[0mi\u001b[0m\u001b[0;34m)\u001b[0m\u001b[0;34m\u001b[0m\u001b[0;34m\u001b[0m\u001b[0m\n\u001b[0;32m--> 517\u001b[0;31m             \u001b[0;32mfor\u001b[0m \u001b[0mi\u001b[0m \u001b[0;32min\u001b[0m \u001b[0mrange\u001b[0m\u001b[0;34m(\u001b[0m\u001b[0mndim\u001b[0m\u001b[0;34m)\u001b[0m\u001b[0;34m\u001b[0m\u001b[0;34m\u001b[0m\u001b[0m\n\u001b[0m\u001b[1;32m    518\u001b[0m         ]\n\u001b[1;32m    519\u001b[0m \u001b[0;34m\u001b[0m\u001b[0m\n",
      "\u001b[0;32m~/miniconda3/envs/pystan/lib/python3.7/site-packages/pandas/core/reshape/concat.py\u001b[0m in \u001b[0;36m<listcomp>\u001b[0;34m(.0)\u001b[0m\n\u001b[1;32m    515\u001b[0m         return [\n\u001b[1;32m    516\u001b[0m             \u001b[0mself\u001b[0m\u001b[0;34m.\u001b[0m\u001b[0m_get_concat_axis\u001b[0m\u001b[0;34m(\u001b[0m\u001b[0;34m)\u001b[0m \u001b[0;32mif\u001b[0m \u001b[0mi\u001b[0m \u001b[0;34m==\u001b[0m \u001b[0mself\u001b[0m\u001b[0;34m.\u001b[0m\u001b[0maxis\u001b[0m \u001b[0;32melse\u001b[0m \u001b[0mself\u001b[0m\u001b[0;34m.\u001b[0m\u001b[0m_get_comb_axis\u001b[0m\u001b[0;34m(\u001b[0m\u001b[0mi\u001b[0m\u001b[0;34m)\u001b[0m\u001b[0;34m\u001b[0m\u001b[0;34m\u001b[0m\u001b[0m\n\u001b[0;32m--> 517\u001b[0;31m             \u001b[0;32mfor\u001b[0m \u001b[0mi\u001b[0m \u001b[0;32min\u001b[0m \u001b[0mrange\u001b[0m\u001b[0;34m(\u001b[0m\u001b[0mndim\u001b[0m\u001b[0;34m)\u001b[0m\u001b[0;34m\u001b[0m\u001b[0;34m\u001b[0m\u001b[0m\n\u001b[0m\u001b[1;32m    518\u001b[0m         ]\n\u001b[1;32m    519\u001b[0m \u001b[0;34m\u001b[0m\u001b[0m\n",
      "\u001b[0;32m~/miniconda3/envs/pystan/lib/python3.7/site-packages/pandas/core/reshape/concat.py\u001b[0m in \u001b[0;36m_get_concat_axis\u001b[0;34m(self)\u001b[0m\n\u001b[1;32m    564\u001b[0m \u001b[0;34m\u001b[0m\u001b[0m\n\u001b[1;32m    565\u001b[0m         \u001b[0;32mif\u001b[0m \u001b[0mself\u001b[0m\u001b[0;34m.\u001b[0m\u001b[0mkeys\u001b[0m \u001b[0;32mis\u001b[0m \u001b[0;32mNone\u001b[0m\u001b[0;34m:\u001b[0m\u001b[0;34m\u001b[0m\u001b[0;34m\u001b[0m\u001b[0m\n\u001b[0;32m--> 566\u001b[0;31m             \u001b[0mconcat_axis\u001b[0m \u001b[0;34m=\u001b[0m \u001b[0m_concat_indexes\u001b[0m\u001b[0;34m(\u001b[0m\u001b[0mindexes\u001b[0m\u001b[0;34m)\u001b[0m\u001b[0;34m\u001b[0m\u001b[0;34m\u001b[0m\u001b[0m\n\u001b[0m\u001b[1;32m    567\u001b[0m         \u001b[0;32melse\u001b[0m\u001b[0;34m:\u001b[0m\u001b[0;34m\u001b[0m\u001b[0;34m\u001b[0m\u001b[0m\n\u001b[1;32m    568\u001b[0m             concat_axis = _make_concat_multiindex(\n",
      "\u001b[0;32m~/miniconda3/envs/pystan/lib/python3.7/site-packages/pandas/core/reshape/concat.py\u001b[0m in \u001b[0;36m_concat_indexes\u001b[0;34m(indexes)\u001b[0m\n\u001b[1;32m    585\u001b[0m \u001b[0;34m\u001b[0m\u001b[0m\n\u001b[1;32m    586\u001b[0m \u001b[0;32mdef\u001b[0m \u001b[0m_concat_indexes\u001b[0m\u001b[0;34m(\u001b[0m\u001b[0mindexes\u001b[0m\u001b[0;34m)\u001b[0m \u001b[0;34m->\u001b[0m \u001b[0mIndex\u001b[0m\u001b[0;34m:\u001b[0m\u001b[0;34m\u001b[0m\u001b[0;34m\u001b[0m\u001b[0m\n\u001b[0;32m--> 587\u001b[0;31m     \u001b[0;32mreturn\u001b[0m \u001b[0mindexes\u001b[0m\u001b[0;34m[\u001b[0m\u001b[0;36m0\u001b[0m\u001b[0;34m]\u001b[0m\u001b[0;34m.\u001b[0m\u001b[0mappend\u001b[0m\u001b[0;34m(\u001b[0m\u001b[0mindexes\u001b[0m\u001b[0;34m[\u001b[0m\u001b[0;36m1\u001b[0m\u001b[0;34m:\u001b[0m\u001b[0;34m]\u001b[0m\u001b[0;34m)\u001b[0m\u001b[0;34m\u001b[0m\u001b[0;34m\u001b[0m\u001b[0m\n\u001b[0m\u001b[1;32m    588\u001b[0m \u001b[0;34m\u001b[0m\u001b[0m\n\u001b[1;32m    589\u001b[0m \u001b[0;34m\u001b[0m\u001b[0m\n",
      "\u001b[0;32m~/miniconda3/envs/pystan/lib/python3.7/site-packages/pandas/core/indexes/base.py\u001b[0m in \u001b[0;36mappend\u001b[0;34m(self, other)\u001b[0m\n\u001b[1;32m   3987\u001b[0m         \u001b[0mname\u001b[0m \u001b[0;34m=\u001b[0m \u001b[0;32mNone\u001b[0m \u001b[0;32mif\u001b[0m \u001b[0mlen\u001b[0m\u001b[0;34m(\u001b[0m\u001b[0mnames\u001b[0m\u001b[0;34m)\u001b[0m \u001b[0;34m>\u001b[0m \u001b[0;36m1\u001b[0m \u001b[0;32melse\u001b[0m \u001b[0mself\u001b[0m\u001b[0;34m.\u001b[0m\u001b[0mname\u001b[0m\u001b[0;34m\u001b[0m\u001b[0;34m\u001b[0m\u001b[0m\n\u001b[1;32m   3988\u001b[0m \u001b[0;34m\u001b[0m\u001b[0m\n\u001b[0;32m-> 3989\u001b[0;31m         \u001b[0;32mreturn\u001b[0m \u001b[0mself\u001b[0m\u001b[0;34m.\u001b[0m\u001b[0m_concat\u001b[0m\u001b[0;34m(\u001b[0m\u001b[0mto_concat\u001b[0m\u001b[0;34m,\u001b[0m \u001b[0mname\u001b[0m\u001b[0;34m)\u001b[0m\u001b[0;34m\u001b[0m\u001b[0;34m\u001b[0m\u001b[0m\n\u001b[0m\u001b[1;32m   3990\u001b[0m \u001b[0;34m\u001b[0m\u001b[0m\n\u001b[1;32m   3991\u001b[0m     \u001b[0;32mdef\u001b[0m \u001b[0m_concat\u001b[0m\u001b[0;34m(\u001b[0m\u001b[0mself\u001b[0m\u001b[0;34m,\u001b[0m \u001b[0mto_concat\u001b[0m\u001b[0;34m,\u001b[0m \u001b[0mname\u001b[0m\u001b[0;34m)\u001b[0m\u001b[0;34m:\u001b[0m\u001b[0;34m\u001b[0m\u001b[0;34m\u001b[0m\u001b[0m\n",
      "\u001b[0;32m~/miniconda3/envs/pystan/lib/python3.7/site-packages/pandas/core/indexes/category.py\u001b[0m in \u001b[0;36m_concat\u001b[0;34m(self, to_concat, name)\u001b[0m\n\u001b[1;32m    851\u001b[0m     \u001b[0;32mdef\u001b[0m \u001b[0m_concat\u001b[0m\u001b[0;34m(\u001b[0m\u001b[0mself\u001b[0m\u001b[0;34m,\u001b[0m \u001b[0mto_concat\u001b[0m\u001b[0;34m,\u001b[0m \u001b[0mname\u001b[0m\u001b[0;34m)\u001b[0m\u001b[0;34m:\u001b[0m\u001b[0;34m\u001b[0m\u001b[0;34m\u001b[0m\u001b[0m\n\u001b[1;32m    852\u001b[0m         \u001b[0;31m# if calling index is category, don't check dtype of others\u001b[0m\u001b[0;34m\u001b[0m\u001b[0;34m\u001b[0m\u001b[0;34m\u001b[0m\u001b[0m\n\u001b[0;32m--> 853\u001b[0;31m         \u001b[0;32mreturn\u001b[0m \u001b[0mCategoricalIndex\u001b[0m\u001b[0;34m.\u001b[0m\u001b[0m_concat_same_dtype\u001b[0m\u001b[0;34m(\u001b[0m\u001b[0mself\u001b[0m\u001b[0;34m,\u001b[0m \u001b[0mto_concat\u001b[0m\u001b[0;34m,\u001b[0m \u001b[0mname\u001b[0m\u001b[0;34m)\u001b[0m\u001b[0;34m\u001b[0m\u001b[0;34m\u001b[0m\u001b[0m\n\u001b[0m\u001b[1;32m    854\u001b[0m \u001b[0;34m\u001b[0m\u001b[0m\n\u001b[1;32m    855\u001b[0m     \u001b[0;32mdef\u001b[0m \u001b[0m_concat_same_dtype\u001b[0m\u001b[0;34m(\u001b[0m\u001b[0mself\u001b[0m\u001b[0;34m,\u001b[0m \u001b[0mto_concat\u001b[0m\u001b[0;34m,\u001b[0m \u001b[0mname\u001b[0m\u001b[0;34m)\u001b[0m\u001b[0;34m:\u001b[0m\u001b[0;34m\u001b[0m\u001b[0;34m\u001b[0m\u001b[0m\n",
      "\u001b[0;32m~/miniconda3/envs/pystan/lib/python3.7/site-packages/pandas/core/indexes/category.py\u001b[0m in \u001b[0;36m_concat_same_dtype\u001b[0;34m(self, to_concat, name)\u001b[0m\n\u001b[1;32m    858\u001b[0m         \u001b[0mValueError\u001b[0m \u001b[0;32mif\u001b[0m \u001b[0mother\u001b[0m \u001b[0;32mis\u001b[0m \u001b[0;32mnot\u001b[0m \u001b[0;32min\u001b[0m \u001b[0mthe\u001b[0m \u001b[0mcategories\u001b[0m\u001b[0;34m\u001b[0m\u001b[0;34m\u001b[0m\u001b[0m\n\u001b[1;32m    859\u001b[0m         \"\"\"\n\u001b[0;32m--> 860\u001b[0;31m         \u001b[0mcodes\u001b[0m \u001b[0;34m=\u001b[0m \u001b[0mnp\u001b[0m\u001b[0;34m.\u001b[0m\u001b[0mconcatenate\u001b[0m\u001b[0;34m(\u001b[0m\u001b[0;34m[\u001b[0m\u001b[0mself\u001b[0m\u001b[0;34m.\u001b[0m\u001b[0m_is_dtype_compat\u001b[0m\u001b[0;34m(\u001b[0m\u001b[0mc\u001b[0m\u001b[0;34m)\u001b[0m\u001b[0;34m.\u001b[0m\u001b[0mcodes\u001b[0m \u001b[0;32mfor\u001b[0m \u001b[0mc\u001b[0m \u001b[0;32min\u001b[0m \u001b[0mto_concat\u001b[0m\u001b[0;34m]\u001b[0m\u001b[0;34m)\u001b[0m\u001b[0;34m\u001b[0m\u001b[0;34m\u001b[0m\u001b[0m\n\u001b[0m\u001b[1;32m    861\u001b[0m         \u001b[0mresult\u001b[0m \u001b[0;34m=\u001b[0m \u001b[0mself\u001b[0m\u001b[0;34m.\u001b[0m\u001b[0m_create_from_codes\u001b[0m\u001b[0;34m(\u001b[0m\u001b[0mcodes\u001b[0m\u001b[0;34m,\u001b[0m \u001b[0mname\u001b[0m\u001b[0;34m=\u001b[0m\u001b[0mname\u001b[0m\u001b[0;34m)\u001b[0m\u001b[0;34m\u001b[0m\u001b[0;34m\u001b[0m\u001b[0m\n\u001b[1;32m    862\u001b[0m         \u001b[0;31m# if name is None, _create_from_codes sets self.name\u001b[0m\u001b[0;34m\u001b[0m\u001b[0;34m\u001b[0m\u001b[0;34m\u001b[0m\u001b[0m\n",
      "\u001b[0;32m~/miniconda3/envs/pystan/lib/python3.7/site-packages/pandas/core/indexes/category.py\u001b[0m in \u001b[0;36m<listcomp>\u001b[0;34m(.0)\u001b[0m\n\u001b[1;32m    858\u001b[0m         \u001b[0mValueError\u001b[0m \u001b[0;32mif\u001b[0m \u001b[0mother\u001b[0m \u001b[0;32mis\u001b[0m \u001b[0;32mnot\u001b[0m \u001b[0;32min\u001b[0m \u001b[0mthe\u001b[0m \u001b[0mcategories\u001b[0m\u001b[0;34m\u001b[0m\u001b[0;34m\u001b[0m\u001b[0m\n\u001b[1;32m    859\u001b[0m         \"\"\"\n\u001b[0;32m--> 860\u001b[0;31m         \u001b[0mcodes\u001b[0m \u001b[0;34m=\u001b[0m \u001b[0mnp\u001b[0m\u001b[0;34m.\u001b[0m\u001b[0mconcatenate\u001b[0m\u001b[0;34m(\u001b[0m\u001b[0;34m[\u001b[0m\u001b[0mself\u001b[0m\u001b[0;34m.\u001b[0m\u001b[0m_is_dtype_compat\u001b[0m\u001b[0;34m(\u001b[0m\u001b[0mc\u001b[0m\u001b[0;34m)\u001b[0m\u001b[0;34m.\u001b[0m\u001b[0mcodes\u001b[0m \u001b[0;32mfor\u001b[0m \u001b[0mc\u001b[0m \u001b[0;32min\u001b[0m \u001b[0mto_concat\u001b[0m\u001b[0;34m]\u001b[0m\u001b[0;34m)\u001b[0m\u001b[0;34m\u001b[0m\u001b[0;34m\u001b[0m\u001b[0m\n\u001b[0m\u001b[1;32m    861\u001b[0m         \u001b[0mresult\u001b[0m \u001b[0;34m=\u001b[0m \u001b[0mself\u001b[0m\u001b[0;34m.\u001b[0m\u001b[0m_create_from_codes\u001b[0m\u001b[0;34m(\u001b[0m\u001b[0mcodes\u001b[0m\u001b[0;34m,\u001b[0m \u001b[0mname\u001b[0m\u001b[0;34m=\u001b[0m\u001b[0mname\u001b[0m\u001b[0;34m)\u001b[0m\u001b[0;34m\u001b[0m\u001b[0;34m\u001b[0m\u001b[0m\n\u001b[1;32m    862\u001b[0m         \u001b[0;31m# if name is None, _create_from_codes sets self.name\u001b[0m\u001b[0;34m\u001b[0m\u001b[0;34m\u001b[0m\u001b[0;34m\u001b[0m\u001b[0m\n",
      "\u001b[0;32m~/miniconda3/envs/pystan/lib/python3.7/site-packages/pandas/core/indexes/category.py\u001b[0m in \u001b[0;36m_is_dtype_compat\u001b[0;34m(self, other)\u001b[0m\n\u001b[1;32m    299\u001b[0m             \u001b[0;32mif\u001b[0m \u001b[0;32mnot\u001b[0m \u001b[0mother\u001b[0m\u001b[0;34m.\u001b[0m\u001b[0mis_dtype_equal\u001b[0m\u001b[0;34m(\u001b[0m\u001b[0mself\u001b[0m\u001b[0;34m)\u001b[0m\u001b[0;34m:\u001b[0m\u001b[0;34m\u001b[0m\u001b[0;34m\u001b[0m\u001b[0m\n\u001b[1;32m    300\u001b[0m                 raise TypeError(\n\u001b[0;32m--> 301\u001b[0;31m                     \u001b[0;34m\"categories must match existing categories when appending\"\u001b[0m\u001b[0;34m\u001b[0m\u001b[0;34m\u001b[0m\u001b[0m\n\u001b[0m\u001b[1;32m    302\u001b[0m                 )\n\u001b[1;32m    303\u001b[0m         \u001b[0;32melse\u001b[0m\u001b[0;34m:\u001b[0m\u001b[0;34m\u001b[0m\u001b[0;34m\u001b[0m\u001b[0m\n",
      "\u001b[0;31mTypeError\u001b[0m: categories must match existing categories when appending"
     ]
    }
   ],
   "source": [
    "frame = model_frame(\"~ 0 + temperature + contact + bottle\", wine)"
   ]
  },
  {
   "cell_type": "code",
   "execution_count": 11,
   "metadata": {},
   "outputs": [
    {
     "data": {
      "text/html": [
       "<div>\n",
       "<style scoped>\n",
       "    .dataframe tbody tr th:only-of-type {\n",
       "        vertical-align: middle;\n",
       "    }\n",
       "\n",
       "    .dataframe tbody tr th {\n",
       "        vertical-align: top;\n",
       "    }\n",
       "\n",
       "    .dataframe thead th {\n",
       "        text-align: right;\n",
       "    }\n",
       "</style>\n",
       "<table border=\"1\" class=\"dataframe\">\n",
       "  <thead>\n",
       "    <tr style=\"text-align: right;\">\n",
       "      <th></th>\n",
       "      <th>Intercept</th>\n",
       "      <th>high</th>\n",
       "      <th>yes</th>\n",
       "      <th>2</th>\n",
       "    </tr>\n",
       "  </thead>\n",
       "  <tbody>\n",
       "    <tr>\n",
       "      <th>0</th>\n",
       "      <td>1.0</td>\n",
       "      <td>0</td>\n",
       "      <td>0</td>\n",
       "      <td>0</td>\n",
       "    </tr>\n",
       "    <tr>\n",
       "      <th>1</th>\n",
       "      <td>1.0</td>\n",
       "      <td>0</td>\n",
       "      <td>0</td>\n",
       "      <td>0</td>\n",
       "    </tr>\n",
       "    <tr>\n",
       "      <th>2</th>\n",
       "      <td>1.0</td>\n",
       "      <td>0</td>\n",
       "      <td>0</td>\n",
       "      <td>0</td>\n",
       "    </tr>\n",
       "    <tr>\n",
       "      <th>3</th>\n",
       "      <td>1.0</td>\n",
       "      <td>0</td>\n",
       "      <td>0</td>\n",
       "      <td>0</td>\n",
       "    </tr>\n",
       "    <tr>\n",
       "      <th>4</th>\n",
       "      <td>1.0</td>\n",
       "      <td>0</td>\n",
       "      <td>0</td>\n",
       "      <td>0</td>\n",
       "    </tr>\n",
       "    <tr>\n",
       "      <th>...</th>\n",
       "      <td>...</td>\n",
       "      <td>...</td>\n",
       "      <td>...</td>\n",
       "      <td>...</td>\n",
       "    </tr>\n",
       "    <tr>\n",
       "      <th>67</th>\n",
       "      <td>1.0</td>\n",
       "      <td>1</td>\n",
       "      <td>1</td>\n",
       "      <td>1</td>\n",
       "    </tr>\n",
       "    <tr>\n",
       "      <th>68</th>\n",
       "      <td>1.0</td>\n",
       "      <td>1</td>\n",
       "      <td>1</td>\n",
       "      <td>1</td>\n",
       "    </tr>\n",
       "    <tr>\n",
       "      <th>69</th>\n",
       "      <td>1.0</td>\n",
       "      <td>1</td>\n",
       "      <td>1</td>\n",
       "      <td>1</td>\n",
       "    </tr>\n",
       "    <tr>\n",
       "      <th>70</th>\n",
       "      <td>1.0</td>\n",
       "      <td>1</td>\n",
       "      <td>1</td>\n",
       "      <td>1</td>\n",
       "    </tr>\n",
       "    <tr>\n",
       "      <th>71</th>\n",
       "      <td>1.0</td>\n",
       "      <td>1</td>\n",
       "      <td>1</td>\n",
       "      <td>1</td>\n",
       "    </tr>\n",
       "  </tbody>\n",
       "</table>\n",
       "<p>72 rows × 4 columns</p>\n",
       "</div>"
      ],
      "text/plain": [
       "    Intercept  high  yes  2\n",
       "0         1.0     0    0  0\n",
       "1         1.0     0    0  0\n",
       "2         1.0     0    0  0\n",
       "3         1.0     0    0  0\n",
       "4         1.0     0    0  0\n",
       "..        ...   ...  ... ..\n",
       "67        1.0     1    1  1\n",
       "68        1.0     1    1  1\n",
       "69        1.0     1    1  1\n",
       "70        1.0     1    1  1\n",
       "71        1.0     1    1  1\n",
       "\n",
       "[72 rows x 4 columns]"
      ]
     },
     "execution_count": 11,
     "metadata": {},
     "output_type": "execute_result"
    }
   ],
   "source": [
    "frame.coef_model_matrix"
   ]
  },
  {
   "cell_type": "code",
   "execution_count": null,
   "metadata": {},
   "outputs": [],
   "source": []
  }
 ],
 "metadata": {
  "kernelspec": {
   "display_name": "Python 3",
   "language": "python",
   "name": "python3"
  },
  "language_info": {
   "codemirror_mode": {
    "name": "ipython",
    "version": 3
   },
   "file_extension": ".py",
   "mimetype": "text/x-python",
   "name": "python",
   "nbconvert_exporter": "python",
   "pygments_lexer": "ipython3",
   "version": "3.7.6"
  }
 },
 "nbformat": 4,
 "nbformat_minor": 2
}
